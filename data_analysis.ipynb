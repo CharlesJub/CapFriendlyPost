{
 "cells": [
  {
   "cell_type": "code",
   "execution_count": 73,
   "metadata": {},
   "outputs": [],
   "source": [
    "import pandas as pd\n",
    "from ast import literal_eval\n",
    "import seaborn as sns\n",
    "from matplotlib.ticker import MaxNLocator\n",
    "import matplotlib.pyplot as plt\n",
    "import re\n",
    "import unicodedata\n",
    "\n",
    "pd.options.mode.chained_assignment = None"
   ]
  },
  {
   "cell_type": "code",
   "execution_count": 74,
   "metadata": {},
   "outputs": [],
   "source": [
    "team_abbrevs = {\n",
    "    'Anaheim Ducks':'ANA',\n",
    "    'Arizona Coyotes':'ARI',\n",
    "    'Boston Bruins':'BOS',\n",
    "    'Buffalo Sabres':'BUF',\n",
    "    'Calgary Flames':'CGY',\n",
    "    'Carolina Hurricanes':'CAR',\n",
    "    'Chicago Blackhawks':'CHI',\n",
    "    'Colorado Avalanche':'COL',\n",
    "    'Columbus Blue Jackets':'CBJ',\n",
    "    'Dallas Stars':'DAL',\n",
    "    'Detroit Red Wings':'DET',\n",
    "    'Edmonton Oilers':'EDM',\n",
    "    'Florida Panthers':'FLA',\n",
    "    'Los Angeles Kings':'LAK',\n",
    "    'Minnesota Wild':'MIN',\n",
    "    'Montréal Canadiens':'MTL',\n",
    "    'Nashville Predators':'NSH',\n",
    "    'New Jersey Devils':'NJD',\n",
    "    'New York Islanders':'NYI',\n",
    "    'New York Rangers':'NYR',\n",
    "    'Ottawa Senators':'OTT',\n",
    "    'Philadelphia Flyers':'PHI',\n",
    "    'Pittsburgh Penguins':'PIT',\n",
    "    'San Jose Sharks':'SJS',\n",
    "    'Seattle Kraken':'SEA',\n",
    "    'St. Louis Blues':'STL',\n",
    "    'Tampa Bay Lightning':'TBL',\n",
    "    'Toronto Maple Leafs':'TOR',\n",
    "    'Vancouver Canucks':'VAN',\n",
    "    'Vegas Golden Knights':'VGK',\n",
    "    'Washington Capitals':'WSH',\n",
    "    'Winnipeg Jets':'WPG'\n",
    "}\n",
    "\n",
    "team_colors = {\n",
    "    'Anaheim Ducks':['#F47A38', '#000', '#B9975B'],\n",
    "    'Arizona Coyotes':['#8C2633', '#E2D6B5', '#FFFFFF'],\n",
    "    'Boston Bruins':['#000000', '#FFB81C', '#FFFFFF'],\n",
    "    'Buffalo Sabres':['#002654', '#FCB514', '#FFFFFF'],\n",
    "    'Calgary Flames':['#c8102E', '#F1BE48', '#FFFFFF'],\n",
    "    'Carolina Hurricanes':['#cc0000', '#000000', '#FFFFFF'],\n",
    "    'Chicago Blackhawks':['#CF0A2C', '#000000', '#FF671B'],\n",
    "    'Colorado Avalanche':['#6F263D', '#236192', '#FFFFFF'],\n",
    "    'Columbus Blue Jackets':['#002654', '#ce1126', '#FFFFFF'],\n",
    "    'Dallas Stars':['#006847', '#111111', '#FFFFFF'],\n",
    "    'Detroit Red Wings':['#ce1126', '#FFFFFF', '#FFFFFF'],\n",
    "    'Edmonton Oilers':['#041E42', '#FF4C00', '#FFFFFF'],\n",
    "    'Florida Panthers':['#041E42', '#c8102E', '#FFFFFF'],\n",
    "    'Los Angeles Kings':['#111111', '#A2AAAD', '#FFFFFF'],\n",
    "    'Minnesota Wild':['#154734', '#A6192E', '#FFFFFF'],\n",
    "    'Montréal Canadiens':['#AF1E2D', '#192168', '#FFFFFF'],\n",
    "    'Nashville Predators':['#FFB81C', '#041E42', '#041E42'],\n",
    "    'New Jersey Devils':['#CE1126', '#000000', '#FFFFFF'],\n",
    "    'New York Islanders':['#00539b', '#f47d30', '#FFFFFF'],\n",
    "    'New York Rangers':['#0038A8', '#CE1126', '#FFFFFF'],\n",
    "    'Ottawa Senators':['#c52032', '#000000', '#FFFFFF'],\n",
    "    'Philadelphia Flyers':['#F74902', '#000000', '#FFFFFF'],\n",
    "    'Pittsburgh Penguins':['#000000', '#FCB514', '#FFFFFF'],\n",
    "    'San Jose Sharks':['#006D75', '#000000', '#FFFFFF'],\n",
    "    'St. Louis Blues':['#002F87', '#FCB514', '#FFFFFF'],\n",
    "    'Seattle Kraken':['#001628', '#e9072b', '#99d9d9'],\n",
    "    'Tampa Bay Lightning':['#002868', '#FFFFFF', '#FFFFFF'],\n",
    "    'Toronto Maple Leafs':['#00205b', '#FFFFFF', '#FFFFFF'],\n",
    "    'Vancouver Canucks':['#00205B', '#00843d', '#FFFFFF'],\n",
    "    'Vegas Golden Knights':['#B4975A', '#333f42', '#FFFFFF'],\n",
    "    'Washington Capitals':['#041E42', '#C8102E', '#FFFFFF'],\n",
    "    'Winnipeg Jets':['#041E42', '#004C97', '#FFFFFF']\n",
    "}"
   ]
  },
  {
   "cell_type": "code",
   "execution_count": 75,
   "metadata": {},
   "outputs": [],
   "source": [
    "def remove_accent(text):\n",
    "    \"\"\"\n",
    "    Remove accent from text\n",
    "    :param text: text to remove accent from\n",
    "    :return: text without accent\n",
    "    \"\"\"\n",
    "    return unicodedata.normalize('NFKD', text).encode('ASCII', 'ignore').decode('utf-8', 'ignore')"
   ]
  },
  {
   "cell_type": "code",
   "execution_count": 34,
   "metadata": {},
   "outputs": [],
   "source": [
    "def shorten_retained_amount(string):\n",
    "    match = re.search(r'\\$([\\d,]+) retained', string)\n",
    "    if match:\n",
    "        amount = match.group(1)\n",
    "        amount = amount.replace(',', '')\n",
    "        amount = int(amount)\n",
    "        suffixes = ['', 'k', 'm', 'b']\n",
    "        suffix_index = 0\n",
    "        \n",
    "        while amount >= 1000 and suffix_index < len(suffixes) - 1:\n",
    "            amount /= 1000\n",
    "            suffix_index += 1\n",
    "        if suffix_index > 1:  # Retained amount is in millions or higher\n",
    "            formatted_amount = f\"${amount:.1f}{suffixes[suffix_index]} retained\"\n",
    "        else:  # Retained amount is less than a million\n",
    "            formatted_amount = f\"${amount:.0f}{suffixes[suffix_index]} retained\"\n",
    "        string = re.sub(r'\\$[\\d,]+ retained', formatted_amount, string)\n",
    "    return string"
   ]
  },
  {
   "cell_type": "code",
   "execution_count": 35,
   "metadata": {},
   "outputs": [
    {
     "data": {
      "text/html": [
       "<div>\n",
       "<style scoped>\n",
       "    .dataframe tbody tr th:only-of-type {\n",
       "        vertical-align: middle;\n",
       "    }\n",
       "\n",
       "    .dataframe tbody tr th {\n",
       "        vertical-align: top;\n",
       "    }\n",
       "\n",
       "    .dataframe thead th {\n",
       "        text-align: right;\n",
       "    }\n",
       "</style>\n",
       "<table border=\"1\" class=\"dataframe\">\n",
       "  <thead>\n",
       "    <tr style=\"text-align: right;\">\n",
       "      <th></th>\n",
       "      <th>post_id</th>\n",
       "      <th>post_name</th>\n",
       "      <th>post_date</th>\n",
       "      <th>team</th>\n",
       "      <th>trade_id</th>\n",
       "      <th>players_recieved</th>\n",
       "      <th>players_traded</th>\n",
       "      <th>team_traded</th>\n",
       "      <th>team_trade_with</th>\n",
       "    </tr>\n",
       "  </thead>\n",
       "  <tbody>\n",
       "    <tr>\n",
       "      <th>0</th>\n",
       "      <td>728021</td>\n",
       "      <td>Intersting Marner trade from a Leafs fan - impact</td>\n",
       "      <td>Jun. 20, 2023</td>\n",
       "      <td>2023-24 Carolina Hurricanes</td>\n",
       "      <td>1</td>\n",
       "      <td>['Liljegren, Timothy', 'Marner, Mitchell']</td>\n",
       "      <td>['Necas, Martin', 'Pesce, Brett']</td>\n",
       "      <td>CAR</td>\n",
       "      <td>TOR</td>\n",
       "    </tr>\n",
       "    <tr>\n",
       "      <th>1</th>\n",
       "      <td>728021</td>\n",
       "      <td>Intersting Marner trade from a Leafs fan - impact</td>\n",
       "      <td>Jun. 20, 2023</td>\n",
       "      <td>2023-24 Carolina Hurricanes</td>\n",
       "      <td>2</td>\n",
       "      <td>['Konecny, Travis']</td>\n",
       "      <td>['Ponomarev, Vasili', '2023 1st round pick (CA...</td>\n",
       "      <td>CAR</td>\n",
       "      <td>PHI</td>\n",
       "    </tr>\n",
       "    <tr>\n",
       "      <th>2</th>\n",
       "      <td>727899</td>\n",
       "      <td>Leafs</td>\n",
       "      <td>Jun. 20, 2023</td>\n",
       "      <td>2023-24 Toronto Maple Leafs</td>\n",
       "      <td>1</td>\n",
       "      <td>['Gravel, Kevin']</td>\n",
       "      <td>['Murray, Matt', 'Timmins, Conor', '2023 1st r...</td>\n",
       "      <td>TOR</td>\n",
       "      <td>NSH</td>\n",
       "    </tr>\n",
       "    <tr>\n",
       "      <th>3</th>\n",
       "      <td>727987</td>\n",
       "      <td>slow burn</td>\n",
       "      <td>Jun. 20, 2023</td>\n",
       "      <td>2023-24 Vancouver Canucks</td>\n",
       "      <td>1</td>\n",
       "      <td>['Peeke, Andrew']</td>\n",
       "      <td>['Beauvillier, Anthony', '2023 3rd round pick ...</td>\n",
       "      <td>VAN</td>\n",
       "      <td>CBJ</td>\n",
       "    </tr>\n",
       "    <tr>\n",
       "      <th>4</th>\n",
       "      <td>727987</td>\n",
       "      <td>slow burn</td>\n",
       "      <td>Jun. 20, 2023</td>\n",
       "      <td>2023-24 Vancouver Canucks</td>\n",
       "      <td>2</td>\n",
       "      <td>['2023 6th round pick (ARI)']</td>\n",
       "      <td>['Myers, Tyler']</td>\n",
       "      <td>VAN</td>\n",
       "      <td>ARI</td>\n",
       "    </tr>\n",
       "  </tbody>\n",
       "</table>\n",
       "</div>"
      ],
      "text/plain": [
       "  post_id                                          post_name      post_date  \\\n",
       "0  728021  Intersting Marner trade from a Leafs fan - impact  Jun. 20, 2023   \n",
       "1  728021  Intersting Marner trade from a Leafs fan - impact  Jun. 20, 2023   \n",
       "2  727899                                              Leafs  Jun. 20, 2023   \n",
       "3  727987                                          slow burn  Jun. 20, 2023   \n",
       "4  727987                                          slow burn  Jun. 20, 2023   \n",
       "\n",
       "                          team  trade_id  \\\n",
       "0  2023-24 Carolina Hurricanes         1   \n",
       "1  2023-24 Carolina Hurricanes         2   \n",
       "2  2023-24 Toronto Maple Leafs         1   \n",
       "3    2023-24 Vancouver Canucks         1   \n",
       "4    2023-24 Vancouver Canucks         2   \n",
       "\n",
       "                             players_recieved  \\\n",
       "0  ['Liljegren, Timothy', 'Marner, Mitchell']   \n",
       "1                         ['Konecny, Travis']   \n",
       "2                           ['Gravel, Kevin']   \n",
       "3                           ['Peeke, Andrew']   \n",
       "4               ['2023 6th round pick (ARI)']   \n",
       "\n",
       "                                      players_traded team_traded  \\\n",
       "0                  ['Necas, Martin', 'Pesce, Brett']         CAR   \n",
       "1  ['Ponomarev, Vasili', '2023 1st round pick (CA...         CAR   \n",
       "2  ['Murray, Matt', 'Timmins, Conor', '2023 1st r...         TOR   \n",
       "3  ['Beauvillier, Anthony', '2023 3rd round pick ...         VAN   \n",
       "4                                   ['Myers, Tyler']         VAN   \n",
       "\n",
       "  team_trade_with  \n",
       "0             TOR  \n",
       "1             PHI  \n",
       "2             NSH  \n",
       "3             CBJ  \n",
       "4             ARI  "
      ]
     },
     "execution_count": 35,
     "metadata": {},
     "output_type": "execute_result"
    }
   ],
   "source": [
    "df = pd.read_csv(\"trades.csv\", encoding=\"latin-1\", dtype={\n",
    "    'post_id': str, \n",
    "    'post_name': str,\n",
    "    'post_date': str,\n",
    "    'team': str,\n",
    "    'trade_id': int,\n",
    "    'players_recieved': str,\n",
    "'players_traded': str,\n",
    "    'team_traded': str,\n",
    "    'team_trade_with': str\n",
    "})\n",
    "df.head()"
   ]
  },
  {
   "cell_type": "code",
   "execution_count": 36,
   "metadata": {},
   "outputs": [
    {
     "data": {
      "image/png": "[encoded data removed]",
      "text/plain": [
       "<Figure size 640x480 with 1 Axes>"
      ]
     },
     "metadata": {},
     "output_type": "display_data"
    }
   ],
   "source": [
    "num_trades = df.groupby(by=['post_id'])['trade_id'].max().reset_index()\n",
    "num_trades_hist = sns.histplot(num_trades['trade_id'], binwidth=2)\n",
    "num_trades_hist.set(xlabel=\"Number of Trades in Post\", title=\"Trade Frequency Distribution: Number of Trades per Post\")\n",
    "plt.show()"
   ]
  },
  {
   "cell_type": "code",
   "execution_count": 37,
   "metadata": {},
   "outputs": [],
   "source": [
    "df['post_date'] = pd.to_datetime(df['post_date'])\n",
    "# Take only the posts that are from after the regular season is over\n",
    "df = df[df['post_date'] > '2023-04-13']\n",
    "# Post that have less than 5 trades \n",
    "df = df[~df.isin(df[df['trade_id'] >= 5]['post_id'].unique())]"
   ]
  },
  {
   "cell_type": "code",
   "execution_count": 38,
   "metadata": {},
   "outputs": [
    {
     "data": {
      "text/plain": [
       "17296"
      ]
     },
     "metadata": {},
     "output_type": "display_data"
    },
    {
     "data": {
      "text/plain": [
       "68"
      ]
     },
     "metadata": {},
     "output_type": "display_data"
    }
   ],
   "source": [
    "display(df['post_id'].nunique())\n",
    "display(df['post_date'].nunique())"
   ]
  },
  {
   "cell_type": "code",
   "execution_count": 100,
   "metadata": {},
   "outputs": [],
   "source": [
    "# players_traded_df = df[['team_traded', 'players_traded']].explode('players_traded').value_counts()\n",
    "# players_traded_df.to_csv('players_traded.csv')\n",
    "\n",
    "# players_recieved_df = df[['team_traded', 'players_recieved']].explode('players_recieved').value_counts().reset_index()\n",
    "# players_traded_df.to_csv('players_recieved.csv')\n",
    "\n"
   ]
  },
  {
   "attachments": {},
   "cell_type": "markdown",
   "metadata": {},
   "source": [
    "# Most Common Players Sent and Recieved for Each Team"
   ]
  },
  {
   "cell_type": "code",
   "execution_count": 39,
   "metadata": {},
   "outputs": [],
   "source": [
    "df['players_recieved'] = df['players_recieved'].apply(literal_eval)\n",
    "df['players_traded'] = df['players_traded'].apply(literal_eval)\n",
    "\n"
   ]
  },
  {
   "cell_type": "code",
   "execution_count": 83,
   "metadata": {},
   "outputs": [],
   "source": [
    "def top_five_traded_away(team, picks=True):\n",
    "    \n",
    "    team_abbr = team_abbrevs[team]\n",
    "    data = df['players_traded'].loc[df['team_traded'] == team_abbr].explode().value_counts()\n",
    "    data = data.reset_index()\n",
    "\n",
    "    ylabel = 'Players or Picks'\n",
    "    if not picks:\n",
    "        data = data.loc[~data['index'].str.contains(\"round pick\"), :].copy()\n",
    "        ylabel = \"Players\"\n",
    "\n",
    "    top_5 = data.head(5)\n",
    "    top_5['index'] = top_5['index'].str.replace(\" round pick\", \"\")\n",
    "    top_5['index'] = top_5['index'].str.replace('[RFA Rights]', \"\", regex=False)\n",
    "    top_5['index'] = top_5['index'].apply(shorten_retained_amount)\n",
    "    top_5['index'] = top_5['index'].apply(remove_accent)\n",
    "    top_5['index'] = top_5['index'].str.title()\n",
    "\n",
    "    plot = sns.barplot(\n",
    "        data=top_5,\n",
    "        x='players_traded', y='index',\n",
    "        color=team_colors[team][0],\n",
    "    )\n",
    "    \n",
    "    plot.set(xlabel=\"Times Traded Out\", ylabel=ylabel, title=(team + \" CapFriendly: Top 5 Traded Away\"))\n",
    "    plot.xaxis.set_major_locator(MaxNLocator(integer=True))\n",
    "    plot.set_facecolor(\"#ADD8E6\")\n",
    "\n",
    "    \n",
    "    plot.set_yticklabels(top_5['index'], ha='left', color=team_colors[team][1])\n",
    "    plot.tick_params(axis='y', pad=-7, left=False)\n",
    "    return plot"
   ]
  },
  {
   "cell_type": "code",
   "execution_count": 88,
   "metadata": {},
   "outputs": [],
   "source": [
    "team_names = list(team_abbrevs.keys())\n",
    "for team in team_names:\n",
    "    plot = top_five_traded_away(team, True)\n",
    "    plt.savefig(f\"players_traded_away_with_picks/{team.replace(' ', '_')}.png\")\n",
    "    plt.close()"
   ]
  },
  {
   "cell_type": "code",
   "execution_count": 53,
   "metadata": {},
   "outputs": [],
   "source": [
    "def top_five_recieved(team, picks=True):\n",
    "    team_abbr = team_abbrevs[team]\n",
    "    data = df['players_recieved'].loc[df['team_traded'] == team_abbr].explode().value_counts()\n",
    "    data = data.reset_index()\n",
    "\n",
    "    if not picks:\n",
    "        data = data.loc[~data['index'].str.contains(\"round pick\"), :].copy()\n",
    "\n",
    "    top_5 = data.head(5)\n",
    "    top_5['index'] = top_5['index'].str.replace(\" round pick\", \"\")\n",
    "    top_5['index'] = top_5['index'].str.replace('[RFA Rights]', \"\", regex=False)\n",
    "    top_5['index'] = top_5['index'].apply(shorten_retained_amount)\n",
    "\n",
    "    plot = sns.barplot(\n",
    "    data=top_5,\n",
    "    x='players_recieved', y='index',\n",
    "    color=team_colors[team][0]\n",
    "    )\n",
    "    plot.set(xlabel=\"Times Traded For\", ylabel=\"Players or Picks\", title=(team +\" CapFriendly Armchair-GM Trades\"))\n",
    "    plot.xaxis.set_major_locator(MaxNLocator(integer=True))\n",
    "    \n",
    "    plot.set_yticklabels(top_5['index'], ha='left', color=team_colors[team][1])\n",
    "    plot.tick_params(axis='y', pad=-10, left=False)\n",
    "    return plot"
   ]
  },
  {
   "cell_type": "code",
   "execution_count": 87,
   "metadata": {},
   "outputs": [],
   "source": [
    "for team in team_names:\n",
    "    plot = top_five_recieved(team, True)\n",
    "    plt.savefig(f\"players_recieved_with_picks/{team.replace(' ', '_')}.png\")\n",
    "    plt.close()"
   ]
  },
  {
   "attachments": {},
   "cell_type": "markdown",
   "metadata": {},
   "source": [
    "# Most Common Trading Partners"
   ]
  },
  {
   "cell_type": "code",
   "execution_count": 13,
   "metadata": {},
   "outputs": [],
   "source": [
    "count_df = df.groupby(['team_traded', 'team_trade_with']).size().reset_index(name='Count')\n",
    "count_df.sort_values(by=['Count'], ascending=False)\n",
    "count_df1 = count_df.copy()"
   ]
  },
  {
   "cell_type": "code",
   "execution_count": 64,
   "metadata": {},
   "outputs": [
    {
     "data": {
      "text/html": [
       "<div>\n",
       "<style scoped>\n",
       "    .dataframe tbody tr th:only-of-type {\n",
       "        vertical-align: middle;\n",
       "    }\n",
       "\n",
       "    .dataframe tbody tr th {\n",
       "        vertical-align: top;\n",
       "    }\n",
       "\n",
       "    .dataframe thead th {\n",
       "        text-align: right;\n",
       "    }\n",
       "</style>\n",
       "<table border=\"1\" class=\"dataframe\">\n",
       "  <thead>\n",
       "    <tr style=\"text-align: right;\">\n",
       "      <th></th>\n",
       "      <th>team_traded_x</th>\n",
       "      <th>team_trade_with_x</th>\n",
       "      <th>Count_x</th>\n",
       "      <th>team_traded_y</th>\n",
       "      <th>team_trade_with_y</th>\n",
       "      <th>Count_y</th>\n",
       "      <th>total</th>\n",
       "    </tr>\n",
       "  </thead>\n",
       "  <tbody>\n",
       "    <tr>\n",
       "      <th>941</th>\n",
       "      <td>WPG</td>\n",
       "      <td>MTL</td>\n",
       "      <td>326</td>\n",
       "      <td>MTL</td>\n",
       "      <td>WPG</td>\n",
       "      <td>618</td>\n",
       "      <td>944</td>\n",
       "    </tr>\n",
       "    <tr>\n",
       "      <th>953</th>\n",
       "      <td>WPG</td>\n",
       "      <td>TOR</td>\n",
       "      <td>99</td>\n",
       "      <td>TOR</td>\n",
       "      <td>WPG</td>\n",
       "      <td>512</td>\n",
       "      <td>611</td>\n",
       "    </tr>\n",
       "    <tr>\n",
       "      <th>929</th>\n",
       "      <td>WPG</td>\n",
       "      <td>BUF</td>\n",
       "      <td>194</td>\n",
       "      <td>BUF</td>\n",
       "      <td>WPG</td>\n",
       "      <td>304</td>\n",
       "      <td>498</td>\n",
       "    </tr>\n",
       "    <tr>\n",
       "      <th>930</th>\n",
       "      <td>WPG</td>\n",
       "      <td>CAR</td>\n",
       "      <td>177</td>\n",
       "      <td>CAR</td>\n",
       "      <td>WPG</td>\n",
       "      <td>147</td>\n",
       "      <td>324</td>\n",
       "    </tr>\n",
       "    <tr>\n",
       "      <th>948</th>\n",
       "      <td>WPG</td>\n",
       "      <td>PIT</td>\n",
       "      <td>86</td>\n",
       "      <td>PIT</td>\n",
       "      <td>WPG</td>\n",
       "      <td>237</td>\n",
       "      <td>323</td>\n",
       "    </tr>\n",
       "  </tbody>\n",
       "</table>\n",
       "</div>"
      ],
      "text/plain": [
       "    team_traded_x team_trade_with_x  Count_x team_traded_y team_trade_with_y  \\\n",
       "941           WPG               MTL      326           MTL               WPG   \n",
       "953           WPG               TOR       99           TOR               WPG   \n",
       "929           WPG               BUF      194           BUF               WPG   \n",
       "930           WPG               CAR      177           CAR               WPG   \n",
       "948           WPG               PIT       86           PIT               WPG   \n",
       "\n",
       "     Count_y  total  \n",
       "941      618    944  \n",
       "953      512    611  \n",
       "929      304    498  \n",
       "930      147    324  \n",
       "948      237    323  "
      ]
     },
     "metadata": {},
     "output_type": "display_data"
    },
    {
     "data": {
      "image/png": "[encoded data removed]",
      "text/plain": [
       "<Figure size 640x480 with 1 Axes>"
      ]
     },
     "metadata": {},
     "output_type": "display_data"
    }
   ],
   "source": [
    "combined = pd.merge(count_df, count_df1, left_on=['team_traded', 'team_trade_with'], right_on=['team_trade_with', 'team_traded'], )\n",
    "combined['total'] = combined['Count_x'] + combined['Count_y']\n",
    "combined.sort_values(by=['total'], ascending=False)\n",
    "\n",
    "team_data = combined[combined['team_traded_x'] == \"WPG\"].sort_values(by=['total'], ascending=False)\n",
    "team_data = team_data.head(5)\n",
    "display(team_data)\n",
    "\n",
    "plot = sns.barplot(\n",
    "    data=team_data,\n",
    "    x='total', y='team_trade_with_x',\n",
    "    color=team_colors[team][0]\n",
    ")\n",
    "plot.set(xlabel=\"Times Traded For\", ylabel=\"Players or Picks\", title=(team +\" CapFriendly Armchair-GM Trades\"))\n",
    "plot.xaxis.set_major_locator(MaxNLocator(integer=True))\n",
    "\n",
    "plot.set_yticklabels(team_data['team_trade_with_x'], ha='left', color=team_colors[team][1])\n",
    "plot.tick_params(axis='y', pad=-10, left=False)"
   ]
  },
  {
   "attachments": {},
   "cell_type": "markdown",
   "metadata": {},
   "source": [
    "# Things most Commonly Packaged together"
   ]
  },
  {
   "attachments": {},
   "cell_type": "markdown",
   "metadata": {},
   "source": [
    "# Most Common Pieces Traded for one another"
   ]
  }
 ],
 "metadata": {
  "kernelspec": {
   "display_name": "Python 3",
   "language": "python",
   "name": "python3"
  },
  "language_info": {
   "codemirror_mode": {
    "name": "ipython",
    "version": 3
   },
   "file_extension": ".py",
   "mimetype": "text/x-python",
   "name": "python",
   "nbconvert_exporter": "python",
   "pygments_lexer": "ipython3",
   "version": "3.10.11"
  },
  "orig_nbformat": 4,
  "vscode": {
   "interpreter": {
    "hash": "efd71c79c7a8ed7e2e6ea7880ca39791cb24c303d26270a10635bc4d8604a30a"
   }
  }
 },
 "nbformat": 4,
 "nbformat_minor": 2
}
